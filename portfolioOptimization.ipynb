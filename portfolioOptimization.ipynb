{
 "cells": [
  {
   "cell_type": "code",
   "execution_count": 3,
   "metadata": {},
   "outputs": [],
   "source": [
    "import numpy as np\n",
    "import pandas as pd\n",
    "import yfinance as yf\n",
    "import datetime\n",
    "import random\n",
    "import matplotlib.pyplot as plt\n",
    "from scipy.optimize import minimize\n",
    "\n",
    "# Set seed for reproducibility\n",
    "np.random.seed(42)\n",
    "random.seed(42)"
   ]
  },
  {
   "cell_type": "code",
   "execution_count": 7,
   "metadata": {},
   "outputs": [],
   "source": [
    "# Constants\n",
    "risk_free_return = 0.07  # Debt Fund Yield\n",
    "start_date = '2000-01-01'\n",
    "end_date = datetime.date.today().strftime('%Y-%m-%d')\n",
    "num_simulations = 10000\n",
    "initial_investment = 1000000"
   ]
  },
  {
   "cell_type": "code",
   "execution_count": 11,
   "metadata": {},
   "outputs": [],
   "source": [
    "# Read portfolio holdings\n",
    "portfolio_file = \"PersonalHoldings.csv\"\n",
    "portfolio_df = pd.read_csv(portfolio_file)\n",
    "portfolio_df['SYMBOL'] = portfolio_df['SYMBOL'] + '.NS'"
   ]
  },
  {
   "cell_type": "code",
   "execution_count": 12,
   "metadata": {},
   "outputs": [],
   "source": [
    "# Function to get historical stock data\n",
    "def get_stock_data(tickers, start, end):\n",
    "    data = yf.download(tickers, start=start, end=end)['Adj Close']\n",
    "    return data"
   ]
  },
  {
   "cell_type": "code",
   "execution_count": 19,
   "metadata": {},
   "outputs": [
    {
     "name": "stderr",
     "output_type": "stream",
     "text": [
      "[*********************100%%**********************]  63 of 63 completed\n",
      "\n",
      "1 Failed download:\n",
      "['BLIL.NS']: Exception('%ticker%: No timezone found, symbol may be delisted')\n"
     ]
    },
    {
     "name": "stdout",
     "output_type": "stream",
     "text": [
      "Ticker      AARTIIND.NS  ADVENZYMES.NS  ALLCARGO.NS     ATL.NS      BEL.NS  \\\n",
      "Date                                                                         \n",
      "2000-01-03          NaN            NaN          NaN        NaN         NaN   \n",
      "2000-01-04          NaN            NaN          NaN        NaN         NaN   \n",
      "2000-01-05          NaN            NaN          NaN        NaN         NaN   \n",
      "2000-01-06          NaN            NaN          NaN        NaN         NaN   \n",
      "2000-01-07          NaN            NaN          NaN        NaN         NaN   \n",
      "...                 ...            ...          ...        ...         ...   \n",
      "2024-04-05   696.450012     359.750000    77.599998  63.700001  224.500000   \n",
      "2024-04-08   704.799988     365.799988    75.750000  64.099998  223.550003   \n",
      "2024-04-09   699.700012     358.899994    76.000000  62.099998  228.149994   \n",
      "2024-04-10   736.250000     361.149994    72.900002  61.200001  228.750000   \n",
      "2024-04-12   750.950012     363.100006    72.800003  60.299999  233.500000   \n",
      "\n",
      "Ticker      BLIL.NS     BPCL.NS      CAMS.NS  CAPLIPOINT.NS  CARERATING.NS  \\\n",
      "Date                                                                         \n",
      "2000-01-03      NaN   12.597833          NaN            NaN            NaN   \n",
      "2000-01-04      NaN   11.690663          NaN            NaN            NaN   \n",
      "2000-01-05      NaN   11.357767          NaN            NaN            NaN   \n",
      "2000-01-06      NaN   11.999888          NaN            NaN            NaN   \n",
      "2000-01-07      NaN   11.985686          NaN            NaN            NaN   \n",
      "...             ...         ...          ...            ...            ...   \n",
      "2024-04-05      NaN  590.450012  3146.750000    1280.900024    1153.099976   \n",
      "2024-04-08      NaN  591.950012  3069.399902    1297.150024    1148.250000   \n",
      "2024-04-09      NaN  585.750000  2997.399902    1291.500000    1148.349976   \n",
      "2024-04-10      NaN  604.750000  3050.149902    1312.550049    1147.050049   \n",
      "2024-04-12      NaN  601.200012  3115.449951    1293.199951    1140.900024   \n",
      "\n",
      "Ticker      ...      SCI.NS  SCILAL.NS  SUNPHARMA.NS  TARSONS.NS       TCS.NS  \\\n",
      "Date        ...                                                                 \n",
      "2000-01-03  ...         NaN        NaN     11.919684         NaN          NaN   \n",
      "2000-01-04  ...         NaN        NaN     11.759893         NaN          NaN   \n",
      "2000-01-05  ...         NaN        NaN     11.347097         NaN          NaN   \n",
      "2000-01-06  ...         NaN        NaN     11.336057         NaN          NaN   \n",
      "2000-01-07  ...         NaN        NaN     10.429276         NaN          NaN   \n",
      "...         ...         ...        ...           ...         ...          ...   \n",
      "2024-04-05  ...  230.100006  65.650002   1609.000000  442.100006  3979.250000   \n",
      "2024-04-08  ...  225.100006  65.449997   1599.699951  438.299988  3972.550049   \n",
      "2024-04-09  ...  217.100006  62.150002   1602.550049  439.750000  3946.550049   \n",
      "2024-04-10  ...  223.399994  59.049999   1604.050049  443.950012  3984.649902   \n",
      "2024-04-12  ...  220.350006  61.599998   1540.000000  449.950012  4001.399902   \n",
      "\n",
      "Ticker        TREL.NS  VISAKAIND.NS     VSSL.NS  XELPMOC.NS  ZYDUSLIFE.NS  \n",
      "Date                                                                       \n",
      "2000-01-03        NaN           NaN         NaN         NaN           NaN  \n",
      "2000-01-04        NaN           NaN         NaN         NaN           NaN  \n",
      "2000-01-05        NaN           NaN         NaN         NaN           NaN  \n",
      "2000-01-06        NaN           NaN         NaN         NaN           NaN  \n",
      "2000-01-07        NaN           NaN         NaN         NaN           NaN  \n",
      "...               ...           ...         ...         ...           ...  \n",
      "2024-04-05  50.250000    120.699997  226.300003  127.849998   1006.500000  \n",
      "2024-04-08  48.900002    118.199997  224.050003  129.199997   1000.650024  \n",
      "2024-04-09  48.250000    116.800003  224.949997  128.050003    989.150024  \n",
      "2024-04-10  48.950001    115.500000  226.750000  127.449997    994.200012  \n",
      "2024-04-12  48.400002    114.599998  227.750000  125.949997    962.150024  \n",
      "\n",
      "[6062 rows x 63 columns]\n"
     ]
    },
    {
     "name": "stderr",
     "output_type": "stream",
     "text": [
      "c:\\Users\\talk2\\OneDrive\\Desktop\\UDEMY\\ProjectFinanceUdemy\\udemy_finance_pandas\\lib\\site-packages\\numpy\\lib\\function_base.py:518: RuntimeWarning: Mean of empty slice.\n",
      "  avg = a.mean(axis, **keepdims_kw)\n",
      "c:\\Users\\talk2\\OneDrive\\Desktop\\UDEMY\\ProjectFinanceUdemy\\udemy_finance_pandas\\lib\\site-packages\\numpy\\core\\_methods.py:184: RuntimeWarning: invalid value encountered in divide\n",
      "  ret = um.true_divide(\n",
      "c:\\Users\\talk2\\OneDrive\\Desktop\\UDEMY\\ProjectFinanceUdemy\\udemy_finance_pandas\\lib\\site-packages\\pandas\\core\\frame.py:10217: RuntimeWarning: Degrees of freedom <= 0 for slice\n",
      "  base_cov = np.cov(mat.T, ddof=ddof)\n",
      "c:\\Users\\talk2\\OneDrive\\Desktop\\UDEMY\\ProjectFinanceUdemy\\udemy_finance_pandas\\lib\\site-packages\\numpy\\lib\\function_base.py:2705: RuntimeWarning: divide by zero encountered in divide\n",
      "  c *= np.true_divide(1, fact)\n",
      "c:\\Users\\talk2\\OneDrive\\Desktop\\UDEMY\\ProjectFinanceUdemy\\udemy_finance_pandas\\lib\\site-packages\\numpy\\lib\\function_base.py:2705: RuntimeWarning: invalid value encountered in multiply\n",
      "  c *= np.true_divide(1, fact)\n"
     ]
    }
   ],
   "source": [
    "# Get historical stock data\n",
    "tickers = portfolio_df['SYMBOL'].tolist()\n",
    "try:\n",
    "    stock_prices = get_stock_data(tickers, start_date, end_date)\n",
    "    print(stock_prices)\n",
    "except Exception as e:\n",
    "    print(e)\n",
    "\n",
    "# Calculate daily returns\n",
    "log_ret = np.log(stock_prices / stock_prices.shift(1)).dropna()\n",
    "\n",
    "# Calculate mean daily returns and covariance matrix\n",
    "mean_ret = log_ret.mean()\n",
    "cov_mat = log_ret.cov() * 252"
   ]
  },
  {
   "cell_type": "code",
   "execution_count": 20,
   "metadata": {},
   "outputs": [],
   "source": [
    "# Portfolio optimization\n",
    "def calc_portfolio_metrics(weights, mean_ret, cov_mat, risk_free_rate):\n",
    "    port_ret = np.sum(mean_ret * weights)\n",
    "    port_risk = np.sqrt(np.dot(weights.T, np.dot(cov_mat, weights)))\n",
    "    sharpe_ratio = (port_ret - risk_free_rate) / port_risk\n",
    "    return port_ret, port_risk, sharpe_ratio\n",
    "\n",
    "def neg_sharpe_ratio(weights, mean_ret, cov_mat, risk_free_rate):\n",
    "    return -calc_portfolio_metrics(weights, mean_ret, cov_mat, risk_free_rate)[2]"
   ]
  },
  {
   "cell_type": "code",
   "execution_count": 21,
   "metadata": {},
   "outputs": [],
   "source": [
    "# Minimum variance portfolio\n",
    "weights_init = np.random.rand(len(tickers))\n",
    "weights_init /= np.sum(weights_init)\n",
    "constraints = ({'type': 'eq', 'fun': lambda x: np.sum(x) - 1})\n",
    "bounds = tuple((0, 1) for _ in range(len(tickers)))\n",
    "\n",
    "min_var_portfolio = minimize(neg_sharpe_ratio, weights_init,\n",
    "                             args=(mean_ret, cov_mat, risk_free_return),\n",
    "                             method='SLSQP', bounds=bounds, constraints=constraints)\n",
    "\n",
    "min_var_weights = min_var_portfolio['x']\n",
    "min_var_metrics = calc_portfolio_metrics(min_var_weights, mean_ret, cov_mat, risk_free_return)\n",
    "\n",
    "# Tangency portfolio (max Sharpe ratio)\n",
    "max_sr_portfolio = minimize(neg_sharpe_ratio, weights_init,\n",
    "                            args=(mean_ret, cov_mat, risk_free_return),\n",
    "                            method='SLSQP', bounds=bounds, constraints=constraints)\n",
    "\n",
    "max_sr_weights = max_sr_portfolio['x']\n",
    "max_sr_metrics = calc_portfolio_metrics(max_sr_weights, mean_ret, cov_mat, risk_free_return)\n"
   ]
  },
  {
   "cell_type": "code",
   "execution_count": 22,
   "metadata": {},
   "outputs": [
    {
     "name": "stdout",
     "output_type": "stream",
     "text": [
      "Minimum Variance Portfolio:\n",
      "Weights: [0.02725131 0.02867434 0.0002316  0.01701501 0.01390561 0.00739929\n",
      " 0.00399319 0.0112473  0.03141205 0.01076717 0.01728297 0.02342034\n",
      " 0.01211394 0.03237391 0.03206293 0.00838786 0.01656532 0.01002345\n",
      " 0.00948916 0.00122885 0.020307   0.01674623 0.00171496 0.00928282\n",
      " 0.03025793 0.00798075 0.00482702 0.01630561 0.03283592 0.00806382\n",
      " 0.02239149 0.02537256 0.00791665 0.02425977 0.01225231 0.02106461\n",
      " 0.02110538 0.01784877 0.00300791 0.02782723 0.01068645 0.00621367\n",
      " 0.00135838 0.01968498 0.02257235 0.00055261 0.01705985 0.00754547\n",
      " 0.02149326 0.00580884 0.02301787 0.01288368 0.03120618 0.00458137\n",
      " 0.01136227 0.00378025 0.0308052  0.02922765 0.00859306 0.02198668\n",
      " 0.0272249  0.01849594 0.01764476]\n",
      "Returns: 0.0\n",
      "Risk: nan\n",
      "Sharpe Ratio: nan\n",
      "\n",
      "Tangency Portfolio (Max Sharpe Ratio):\n",
      "Weights: [0.02725131 0.02867434 0.0002316  0.01701501 0.01390561 0.00739929\n",
      " 0.00399319 0.0112473  0.03141205 0.01076717 0.01728297 0.02342034\n",
      " 0.01211394 0.03237391 0.03206293 0.00838786 0.01656532 0.01002345\n",
      " 0.00948916 0.00122885 0.020307   0.01674623 0.00171496 0.00928282\n",
      " 0.03025793 0.00798075 0.00482702 0.01630561 0.03283592 0.00806382\n",
      " 0.02239149 0.02537256 0.00791665 0.02425977 0.01225231 0.02106461\n",
      " 0.02110538 0.01784877 0.00300791 0.02782723 0.01068645 0.00621367\n",
      " 0.00135838 0.01968498 0.02257235 0.00055261 0.01705985 0.00754547\n",
      " 0.02149326 0.00580884 0.02301787 0.01288368 0.03120618 0.00458137\n",
      " 0.01136227 0.00378025 0.0308052  0.02922765 0.00859306 0.02198668\n",
      " 0.0272249  0.01849594 0.01764476]\n",
      "Returns: 0.0\n",
      "Risk: nan\n",
      "Sharpe Ratio: nan\n"
     ]
    }
   ],
   "source": [
    "# Display results\n",
    "print(\"Minimum Variance Portfolio:\")\n",
    "print(\"Weights:\", min_var_weights)\n",
    "print(\"Returns:\", min_var_metrics[0])\n",
    "print(\"Risk:\", min_var_metrics[1])\n",
    "print(\"Sharpe Ratio:\", min_var_metrics[2])\n",
    "\n",
    "print(\"\\nTangency Portfolio (Max Sharpe Ratio):\")\n",
    "print(\"Weights:\", max_sr_weights)\n",
    "print(\"Returns:\", max_sr_metrics[0])\n",
    "print(\"Risk:\", max_sr_metrics[1])\n",
    "print(\"Sharpe Ratio:\", max_sr_metrics[2])"
   ]
  },
  {
   "cell_type": "code",
   "execution_count": 24,
   "metadata": {},
   "outputs": [
    {
     "data": {
      "image/png": "[encoded data removed]",
      "text/plain": [
       "<Figure size 1000x600 with 2 Axes>"
      ]
     },
     "metadata": {},
     "output_type": "display_data"
    },
    {
     "name": "stdout",
     "output_type": "stream",
     "text": [
      "\n",
      "Minimum Variance Portfolio Asset Allocation:\n",
      "               Asset Allocation  Invested Value\n",
      "HDFCBANK.NS            0.027251    27251.308322\n",
      "CAMS.NS                0.028674    28674.341203\n",
      "KOTAKBANK.NS           0.000232      231.602974\n",
      "TCS.NS                 0.017015    17015.013417\n",
      "INFY.NS                0.013906    13905.611998\n",
      "ITC.NS                 0.007399     7399.289935\n",
      "PETRONET.NS            0.003993     3993.189632\n",
      "AARTIIND.NS            0.011247    11247.297131\n",
      "POWERGRID.NS           0.031412    31412.052853\n",
      "IGL.NS                 0.010767    10767.168416\n",
      "DIVISLAB.NS            0.017283    17282.968202\n",
      "CONCOR.NS              0.023420    23420.343010\n",
      "TARSONS.NS             0.012114    12113.940753\n",
      "GODREJAGRO.NS          0.032374    32373.906024\n",
      "SAREGAMA.NS            0.032063    32062.927310\n",
      "MGL.NS                 0.008388     8387.864449\n",
      "NAM-INDIA.NS           0.016565    16565.315091\n",
      "ICICIBANK.NS           0.010023    10023.446923\n",
      "MCX.NS                 0.009489     9489.163837\n",
      "NBCC.NS                0.001229     1228.850159\n",
      "GREENPANEL.NS          0.020307    20306.999702\n",
      "GSPL.NS                0.016746    16746.227110\n",
      "EXIDEIND.NS            0.001715     1714.960879\n",
      "EPL.NS                 0.009283     9282.816186\n",
      "M&M.NS                 0.030258    30257.930209\n",
      "\n",
      "Tangency Portfolio Asset Allocation:\n",
      "              Asset Allocation  Invested Value\n",
      "HDFCBANK.NS           0.027251    27251.308322\n",
      "CAMS.NS               0.028674    28674.341203\n",
      "KOTAKBANK.NS          0.000232      231.602974\n",
      "TCS.NS                0.017015    17015.013417\n",
      "INFY.NS               0.013906    13905.611998\n",
      "...                        ...             ...\n",
      "LIKHITHA.NS           0.008593     8593.056163\n",
      "TREL.NS               0.021987    21986.679795\n",
      "SCI.NS                0.027225    27224.904822\n",
      "SAIL.NS               0.018496    18495.935682\n",
      "SCILAL.NS             0.017645    17644.756324\n",
      "\n",
      "[63 rows x 2 columns]\n"
     ]
    }
   ],
   "source": [
    "# Plotting efficient frontier\n",
    "risk_values = np.linspace(0, 0.5, 100)\n",
    "returns = []\n",
    "for risk in risk_values:\n",
    "    cons = ({'type': 'eq', 'fun': lambda x: np.sum(x) - 1},\n",
    "            {'type': 'eq', 'fun': lambda x: calc_portfolio_metrics(x, mean_ret, cov_mat, risk_free_return)[1] - risk})\n",
    "    result = minimize(neg_sharpe_ratio, weights_init, args=(mean_ret, cov_mat, risk_free_return),\n",
    "                      method='SLSQP', bounds=bounds, constraints=cons)\n",
    "    returns.append(-result.fun)\n",
    "\n",
    "plt.figure(figsize=(10, 6))\n",
    "plt.scatter(returns, risk_values, c=np.array(returns) / np.array(risk_values), cmap='viridis')\n",
    "plt.title('Portfolio Optimization & Efficient Frontier')\n",
    "plt.xlabel('Annualized Returns')\n",
    "plt.ylabel('Annualized Risk')\n",
    "plt.colorbar(label='Sharpe Ratio')\n",
    "plt.scatter(min_var_metrics[0], min_var_metrics[1], marker='o', color='red', label='Minimum Variance Portfolio')\n",
    "plt.scatter(max_sr_metrics[0], max_sr_metrics[1], marker='o', color='blue', label='Tangency Portfolio')\n",
    "plt.legend()\n",
    "plt.show()\n",
    "\n",
    "# Asset allocation for minimum variance portfolio\n",
    "min_var_portfolio_df = pd.DataFrame(min_var_weights, index=tickers, columns=['Asset Allocation'])\n",
    "min_var_portfolio_df['Invested Value'] = min_var_portfolio_df['Asset Allocation'] * initial_investment\n",
    "print(\"\\nMinimum Variance Portfolio Asset Allocation:\")\n",
    "print(min_var_portfolio_df.head(25))\n",
    "\n",
    "# Asset allocation for tangency portfolio\n",
    "max_sr_portfolio_df = pd.DataFrame(max_sr_weights, index=tickers, columns=['Asset Allocation'])\n",
    "max_sr_portfolio_df['Invested Value'] = max_sr_portfolio_df['Asset Allocation'] * initial_investment\n",
    "print(\"\\nTangency Portfolio Asset Allocation:\")\n",
    "print(max_sr_portfolio_df)"
   ]
  }
 ],
 "metadata": {
  "kernelspec": {
   "display_name": "udemy_finance_pandas",
   "language": "python",
   "name": "python3"
  },
  "language_info": {
   "codemirror_mode": {
    "name": "ipython",
    "version": 3
   },
   "file_extension": ".py",
   "mimetype": "text/x-python",
   "name": "python",
   "nbconvert_exporter": "python",
   "pygments_lexer": "ipython3",
   "version": "3.8.10"
  }
 },
 "nbformat": 4,
 "nbformat_minor": 2
}
